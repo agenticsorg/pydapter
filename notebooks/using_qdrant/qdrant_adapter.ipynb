{
  "cells": [
    {
      "cell_type": "markdown",
      "id": "84ef5881",
      "metadata": {},
      "source": [
        "# Vector Database Tutorial with Pydapter's Qdrant Adapters"
      ]
    },
    {
      "cell_type": "markdown",
      "id": "c46cd7c8",
      "metadata": {},
      "source": [
        "This tutorial demonstrates how to use pydapter's Qdrant adapters to seamlessly\n",
        "work with vector embeddings for semantic search and similarity-based retrieval.\n",
        "We'll cover both synchronous and asynchronous implementations.\n"
      ]
    },
    {
      "cell_type": "markdown",
      "id": "e48771ad",
      "metadata": {},
      "source": [
        "**What is Vector Database?**"
      ]
    },
    {
      "cell_type": "markdown",
      "id": "4a532a21",
      "metadata": {},
      "source": [
        "Vector databases are specialized storage systems designed for high-dimensional\n",
        "vector data (embeddings) that enable efficient similarity search. They're\n",
        "crucial for:\n",
        "\n",
        "- Semantic search\n",
        "- Recommendation systems\n",
        "- Image similarity\n",
        "- Document retrieval\n",
        "- Natural language understanding\n",
        "\n",
        "Qdrant is a powerful vector database with extensive filtering capabilities,\n",
        "making it perfect for applications that need both semantic similarity and\n",
        "metadata filtering."
      ]
    },
    {
      "cell_type": "markdown",
      "id": "0817ff2a",
      "metadata": {},
      "source": [
        "### 1. Prerequisites\n",
        "\n",
        "run the following in your terminal\n",
        "\n",
        "```sh\n",
        "uv venv\n",
        "uv pip install \"pydapter[qdrant]\" sentence_transformers\n",
        "```\n",
        "\n",
        "Then compose up the Qdrant docker container:\n",
        "\n",
        "```sh\n",
        "cd notebooks/using_qdrant\n",
        "docker compose up\n",
        "```"
      ]
    },
    {
      "cell_type": "markdown",
      "id": "5038f1b4",
      "metadata": {},
      "source": [
        "### 2. A simple example"
      ]
    },
    {
      "cell_type": "code",
      "execution_count": 6,
      "id": "19b89ae8",
      "metadata": {},
      "outputs": [],
      "source": [
        "from pydantic import BaseModel, Field\n",
        "from typing import List\n",
        "import uuid\n",
        "from sentence_transformers import SentenceTransformer\n",
        "from pydapter.extras.qdrant_ import QdrantAdapter\n",
        "from datetime import datetime\n",
        "\n",
        "# Load a sentence transformer model to generate embeddings\n",
        "model = SentenceTransformer(\"all-MiniLM-L6-v2\")  # 384-dimensional embeddings\n",
        "\n",
        "qdrant_url = \"http://localhost:6333\"\n",
        "\n",
        "\n",
        "class Document(BaseModel):\n",
        "    id: str = Field(default_factory=lambda: str(uuid.uuid4()))\n",
        "    created_at: str = Field(default_factory=lambda: datetime.now().isoformat())\n",
        "    title: str\n",
        "    content: str\n",
        "    tags: List[str] = Field(default_factory=list)\n",
        "    embedding: List[float] = Field(default_factory=list)\n",
        "\n",
        "    def generate_embedding(self):\n",
        "        \"\"\"Generate embedding from the document content\"\"\"\n",
        "        self.embedding = model.encode(self.content).tolist()\n",
        "        return self"
      ]
    },
    {
      "cell_type": "code",
      "execution_count": 7,
      "id": "463b27ea",
      "metadata": {},
      "outputs": [],
      "source": [
        "# Store documents in Qdrant\n",
        "def store_documents(documents: list[Document]):\n",
        "    print(f\"Storing {len(documents)} documents in Qdrant...\")\n",
        "\n",
        "    result = QdrantAdapter.to_obj(\n",
        "        documents,\n",
        "        collection=\"documents\",\n",
        "        url=qdrant_url,\n",
        "        many=True,\n",
        "    )\n",
        "    print(f\"Storage result: {result}\")"
      ]
    },
    {
      "cell_type": "code",
      "execution_count": 8,
      "id": "d2e4867c",
      "metadata": {},
      "outputs": [],
      "source": [
        "# Search for similar documents\n",
        "def search_documents(query_text: str, top_k=2):\n",
        "    print(f\"Searching for documents similar to: '{query_text}'\")\n",
        "\n",
        "    # Generate embedding for the query\n",
        "    query_embedding = model.encode(query_text).tolist()\n",
        "\n",
        "    # Search in Qdrant using the QdrantAdapter\n",
        "    results = QdrantAdapter.from_obj(\n",
        "        Document,\n",
        "        {\n",
        "            \"collection\": \"documents\",\n",
        "            \"query_vector\": query_embedding,\n",
        "            \"top_k\": top_k,\n",
        "            \"url\": qdrant_url,\n",
        "        },\n",
        "        many=True,\n",
        "    )\n",
        "\n",
        "    print(f\"Found {len(results)} similar documents:\")\n",
        "    for i, doc in enumerate(results):\n",
        "        print(f\"{i+1}. {doc.title}\")\n",
        "        print(f\"   Content: {doc.content}\")\n",
        "        print(f\"   Tags: {', '.join(doc.tags)}\")\n",
        "        print()\n",
        "\n",
        "    return results"
      ]
    },
    {
      "cell_type": "code",
      "execution_count": 9,
      "id": "957f342b",
      "metadata": {},
      "outputs": [],
      "source": [
        "# create some sample documents with `title`, `content`, and `tags`\n",
        "\n",
        "docs = [\n",
        "    {\n",
        "        \"title\": \"Introduction to Machine Learning\",\n",
        "        \"content\": \"Machine learning is a field of artificial intelligence that uses statistical techniques to give computer systems the ability to learn from data.\",\n",
        "        \"tags\": [\"ML\", \"AI\", \"Data Science\"],\n",
        "    },\n",
        "    {\n",
        "        \"title\": \"Deep Learning Fundamentals\",\n",
        "        \"content\": \"Deep learning is a subset of machine learning that uses neural networks with many layers to analyze various factors of data.\",\n",
        "        \"tags\": [\"Deep Learning\", \"Neural Networks\", \"AI\"],\n",
        "    },\n",
        "    {\n",
        "        \"title\": \"Natural Language Processing\",\n",
        "        \"content\": \"NLP combines computational linguistics and AI to enable computers to understand, interpret, and generate human language.\",\n",
        "        \"tags\": [\"NLP\", \"AI\", \"Linguistics\"],\n",
        "    },\n",
        "    {\n",
        "        \"title\": \"Computer Vision\",\n",
        "        \"content\": \"Computer vision is a field of AI that trains computers to interpret and understand visual data from the world around us.\",\n",
        "        \"tags\": [\"Computer Vision\", \"AI\", \"Image Processing\"],\n",
        "    },\n",
        "]"
      ]
    },
    {
      "cell_type": "code",
      "execution_count": 10,
      "id": "eb1f543e",
      "metadata": {},
      "outputs": [
        {
          "name": "stdout",
          "output_type": "stream",
          "text": [
            "Storing 4 documents in Qdrant...\n",
            "Storage result: {'upserted_count': 4}\n",
            "Searching for documents similar to: 'What is machine learning?'\n",
            "Found 2 similar documents:\n",
            "1. Introduction to Machine Learning\n",
            "   Content: Machine learning is a field of artificial intelligence that uses statistical techniques to give computer systems the ability to learn from data.\n",
            "   Tags: ML, AI, Data Science\n",
            "\n",
            "2. Deep Learning Fundamentals\n",
            "   Content: Deep learning is a subset of machine learning that uses neural networks with many layers to analyze various factors of data.\n",
            "   Tags: Deep Learning, Neural Networks, AI\n",
            "\n",
            "Searching for documents similar to: 'Explain deep learning'\n",
            "Found 2 similar documents:\n",
            "1. Deep Learning Fundamentals\n",
            "   Content: Deep learning is a subset of machine learning that uses neural networks with many layers to analyze various factors of data.\n",
            "   Tags: Deep Learning, Neural Networks, AI\n",
            "\n",
            "2. Introduction to Machine Learning\n",
            "   Content: Machine learning is a field of artificial intelligence that uses statistical techniques to give computer systems the ability to learn from data.\n",
            "   Tags: ML, AI, Data Science\n",
            "\n",
            "Searching for documents similar to: 'What is NLP?'\n",
            "Found 2 similar documents:\n",
            "1. Natural Language Processing\n",
            "   Content: NLP combines computational linguistics and AI to enable computers to understand, interpret, and generate human language.\n",
            "   Tags: NLP, AI, Linguistics\n",
            "\n",
            "2. Deep Learning Fundamentals\n",
            "   Content: Deep learning is a subset of machine learning that uses neural networks with many layers to analyze various factors of data.\n",
            "   Tags: Deep Learning, Neural Networks, AI\n",
            "\n"
          ]
        }
      ],
      "source": [
        "def main():\n",
        "\n",
        "    sample_docs = [Document(**doc) for doc in docs]\n",
        "\n",
        "    # Generate embeddings for each document\n",
        "    for doc in sample_docs:\n",
        "        doc.generate_embedding()\n",
        "\n",
        "    store_documents(sample_docs)\n",
        "    search_documents(\"What is machine learning?\", top_k=2)\n",
        "    search_documents(\"Explain deep learning\", top_k=2)\n",
        "    search_documents(\"What is NLP?\", top_k=2)\n",
        "\n",
        "\n",
        "main()"
      ]
    }
  ],
  "metadata": {
    "kernelspec": {
      "display_name": ".venv",
      "language": "python",
      "name": "python3"
    },
    "language_info": {
      "codemirror_mode": {
        "name": "ipython",
        "version": 3
      },
      "file_extension": ".py",
      "mimetype": "text/x-python",
      "name": "python",
      "nbconvert_exporter": "python",
      "pygments_lexer": "ipython3",
      "version": "3.10.16"
    }
  },
  "nbformat": 4,
  "nbformat_minor": 5
}
