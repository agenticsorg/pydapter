{
  "cells": [
    {
      "cell_type": "markdown",
      "id": "2edb82bb",
      "metadata": {},
      "source": [
        "# Neo4j Adapter Tutorial for Pydapter\n",
        "\n",
        "This tutorial will show you how to use pydapter's Neo4j adapter to seamlessly\n",
        "convert between Pydantic models and Neo4j graph databases. You'll learn how to\n",
        "model, store, and query graph data using Pydantic's validation capabilities."
      ]
    },
    {
      "cell_type": "markdown",
      "id": "db749e70",
      "metadata": {},
      "source": [
        "## A. Prerequisites"
      ]
    },
    {
      "cell_type": "markdown",
      "id": "4fed5f22",
      "metadata": {},
      "source": [
        "### A.1 Installation"
      ]
    },
    {
      "cell_type": "markdown",
      "id": "a3d29303",
      "metadata": {},
      "source": [
        "the following command will\n",
        "\n",
        "- create a virtual environment in the current directory and\n",
        "- install the `pydapter` package with the `neo4j` extra dependencies."
      ]
    },
    {
      "cell_type": "code",
      "execution_count": null,
      "id": "a7dc3f0d",
      "metadata": {
        "vscode": {
          "languageId": "shellscript"
        }
      },
      "outputs": [],
      "source": [
        "uv venv\n",
        "uv pip install \"pydapter[neo4j]\""
      ]
    },
    {
      "cell_type": "markdown",
      "id": "f0d3e68d",
      "metadata": {},
      "source": [
        "### A.2 Set Up Neo4j\n",
        "\n",
        "The easiest way to set up Neo4j is using Docker:"
      ]
    },
    {
      "cell_type": "code",
      "execution_count": null,
      "id": "a69987c6",
      "metadata": {
        "vscode": {
          "languageId": "shellscript"
        }
      },
      "outputs": [],
      "source": [
        "docker run \\\n",
        "    --name neo4j-pydapter \\\n",
        "    -p 7474:7474 -p 7687:7687 \\\n",
        "    -e NEO4J_AUTH=neo4j/password \\\n",
        "    -d neo4j:latest"
      ]
    },
    {
      "cell_type": "markdown",
      "id": "0ef06ec2",
      "metadata": {},
      "source": [
        "Alternatively, you can:\n",
        "\n",
        "- Download and install Neo4j Desktop from\n",
        "  [Neo4j's website](https://neo4j.com/download/)\n",
        "- Use Neo4j AuraDB cloud service\n",
        "- Install Neo4j directly on your system\n",
        "\n",
        "With Docker, you can access:\n",
        "\n",
        "- Neo4j Browser UI at http://localhost:7474\n",
        "- Bolt protocol at bolt://localhost:7687\n"
      ]
    },
    {
      "cell_type": "markdown",
      "id": "be0f59ca",
      "metadata": {},
      "source": [
        "## B. Basic Example - Person Management System"
      ]
    },
    {
      "cell_type": "markdown",
      "id": "6d8947a5",
      "metadata": {},
      "source": [
        "### B.1 Store and Retrieve a Person Node from Neo4j"
      ]
    },
    {
      "cell_type": "markdown",
      "id": "8a7cc445",
      "metadata": {},
      "source": [
        "Import Required Libraries and Set Up Neo4j Config"
      ]
    },
    {
      "cell_type": "code",
      "execution_count": 1,
      "id": "ddc4a514",
      "metadata": {},
      "outputs": [],
      "source": [
        "from pydantic import BaseModel\n",
        "from typing import List, Optional\n",
        "\n",
        "# Neo4j connection settings\n",
        "NEO4J_URI = \"bolt://localhost:7687\"\n",
        "NEO4J_AUTH = (\"neo4j\", \"password\")  # Default credentials, change if different\n",
        "\n",
        "NEO4J_CONFIG = {\n",
        "    \"url\": NEO4J_URI,\n",
        "    \"auth\": NEO4J_AUTH,\n",
        "}"
      ]
    },
    {
      "cell_type": "markdown",
      "id": "64d02a67",
      "metadata": {},
      "source": [
        "set up pydantic models"
      ]
    },
    {
      "cell_type": "code",
      "execution_count": 2,
      "id": "bf746140",
      "metadata": {},
      "outputs": [],
      "source": [
        "# Define a Pydantic model\n",
        "class Person(BaseModel):\n",
        "    id: str\n",
        "    name: str\n",
        "    age: int\n",
        "    email: Optional[str] = None\n",
        "    interests: List[str] = []"
      ]
    },
    {
      "cell_type": "code",
      "execution_count": 3,
      "id": "1e587bdf",
      "metadata": {},
      "outputs": [],
      "source": [
        "# Create some test data\n",
        "people = [\n",
        "    Person(\n",
        "        id=\"p1\",\n",
        "        name=\"Alice\",\n",
        "        age=30,\n",
        "        email=\"alice@example.com\",\n",
        "        interests=[\"coding\", \"hiking\"],\n",
        "    ),\n",
        "    Person(\n",
        "        id=\"p2\",\n",
        "        name=\"Bob\",\n",
        "        age=25,\n",
        "        email=\"bob@example.com\",\n",
        "        interests=[\"gaming\", \"cooking\"],\n",
        "    ),\n",
        "    Person(\n",
        "        id=\"p3\",\n",
        "        name=\"Charlie\",\n",
        "        age=35,\n",
        "        email=\"charlie@example.com\",\n",
        "        interests=[\"reading\", \"travel\"],\n",
        "    ),\n",
        "]"
      ]
    },
    {
      "cell_type": "code",
      "execution_count": 4,
      "id": "e65c374e",
      "metadata": {},
      "outputs": [],
      "source": [
        "NEO4J_PERSON_CONFIG = {**NEO4J_CONFIG, \"label\": \"Person\"}  # convience"
      ]
    },
    {
      "cell_type": "code",
      "execution_count": 5,
      "id": "97cb9095",
      "metadata": {},
      "outputs": [],
      "source": [
        "from pydapter.extras.neo4j_ import Neo4jAdapter\n",
        "\n",
        "\n",
        "# Store data in Neo4j\n",
        "def store_people(people_list: List[Person]):\n",
        "    print(f\"Storing {len(people_list)} people in Neo4j...\\n\")\n",
        "\n",
        "    for person in people_list:\n",
        "        result = Neo4jAdapter.to_obj(\n",
        "            person,\n",
        "            merge_on=\"id\",  # Property to use for MERGE operation\n",
        "            **NEO4J_PERSON_CONFIG,\n",
        "        )\n",
        "        print(f\"Stored {person.name}: {result}\")\n",
        "\n",
        "    print(\"\\nPeople stored successfully.\\n\")\n",
        "\n",
        "\n",
        "# Find people by property\n",
        "def find_people_by_property(\n",
        "    property_name: str = None, property_value: str = None, where_clause: str = None\n",
        "):\n",
        "    if not where_clause:\n",
        "        if not property_name or not property_value:\n",
        "            raise ValueError(\n",
        "                \"Either 'where_clause' or both 'property_name' and 'property_value' must be provided.\"\n",
        "            )\n",
        "\n",
        "    where_clause = where_clause or f\"n.{property_name} = '{property_value}'\"\n",
        "    print(f\"Finding people with {where_clause} ...\")\n",
        "\n",
        "    people: List[Person] = Neo4jAdapter.from_obj(\n",
        "        Person,\n",
        "        {\"where\": where_clause, **NEO4J_PERSON_CONFIG},\n",
        "        many=True,\n",
        "    )\n",
        "\n",
        "    print(f\"Found {len(people)} matching people:\")\n",
        "    for person in people:\n",
        "        print(f\"  - {person.name} (Age: {person.age}, Email: {person.email})\")\n",
        "\n",
        "    return people"
      ]
    },
    {
      "cell_type": "code",
      "execution_count": 6,
      "id": "841cf426",
      "metadata": {},
      "outputs": [
        {
          "name": "stdout",
          "output_type": "stream",
          "text": [
            "Storing 3 people in Neo4j...\n",
            "\n",
            "Stored Alice: {'merged_count': 1}\n",
            "Stored Bob: {'merged_count': 1}\n",
            "Stored Charlie: {'merged_count': 1}\n",
            "\n",
            "People stored successfully.\n",
            "\n",
            "Finding people with n.email ENDS WITH 'example.com' ...\n",
            "Found 3 matching people:\n",
            "  - Alice (Age: 30, Email: alice@example.com)\n",
            "  - Bob (Age: 25, Email: bob@example.com)\n",
            "  - Charlie (Age: 35, Email: charlie@example.com)\n",
            "Found 3 people with example.com emails:\n",
            "  - Alice: alice@example.com\n",
            "  - Bob: bob@example.com\n",
            "  - Charlie: charlie@example.com\n"
          ]
        }
      ],
      "source": [
        "def main():\n",
        "    store_people(people)  # First, store people\n",
        "    example_emails = find_people_by_property(\n",
        "        where_clause=\"n.email ENDS WITH 'example.com'\"\n",
        "    )\n",
        "\n",
        "    print(f\"Found {len(example_emails)} people with example.com emails:\")\n",
        "    for person in example_emails:\n",
        "        print(f\"  - {person.name}: {person.email}\")\n",
        "\n",
        "\n",
        "main()"
      ]
    },
    {
      "cell_type": "markdown",
      "id": "caaefd84",
      "metadata": {},
      "source": [
        "### B.2 Using pydapter Adaptable Mixin"
      ]
    },
    {
      "cell_type": "markdown",
      "id": "7816778b",
      "metadata": {},
      "source": [
        "add `Adaptable` mixin to the `Person` model"
      ]
    },
    {
      "cell_type": "code",
      "execution_count": 7,
      "id": "31efff86",
      "metadata": {},
      "outputs": [],
      "source": [
        "from pydapter import Adaptable\n",
        "from pydapter.extras.neo4j_ import Neo4jAdapter\n",
        "\n",
        "\n",
        "class Person(BaseModel, Adaptable):\n",
        "    id: str\n",
        "    name: str\n",
        "    age: int\n",
        "    email: Optional[str] = None\n",
        "    interests: List[str] = []\n",
        "\n",
        "\n",
        "Person.register_adapter(Neo4jAdapter)"
      ]
    },
    {
      "cell_type": "code",
      "execution_count": 8,
      "id": "ed6a74df",
      "metadata": {},
      "outputs": [],
      "source": [
        "people = [\n",
        "  Person(\n",
        "    id = \"p1\",\n",
        "    name = \"Alice\",\n",
        "    age = 30,\n",
        "    email = \"alice@example.com\",\n",
        "    interests = [\"coding\", \"hiking\"],\n",
        "  ),\n",
        "  Person(\n",
        "    id = \"p2\",\n",
        "    name = \"Bob\",\n",
        "    age = 25,\n",
        "    email = \"bob@example.com\",\n",
        "    interests = [\"gaming\", \"cooking\"],\n",
        "  ),\n",
        "  Person(\n",
        "    id = \"p3\",\n",
        "    name = \"Charlie\",\n",
        "    age = 35,\n",
        "    email = \"charlie@example.com\",\n",
        "    interests = [\"reading\", \"travel\"],\n",
        "  ),\n",
        "];"
      ]
    },
    {
      "cell_type": "code",
      "execution_count": 9,
      "id": "0c3f3829",
      "metadata": {},
      "outputs": [],
      "source": [
        "def main():\n",
        "    # Store all people\n",
        "    for person in people:\n",
        "        person.adapt_to(\"neo4j\", **NEO4J_PERSON_CONFIG)\n",
        "    print(\"Stored all people in Neo4j.\")\n",
        "\n",
        "    # Find people with example.com emails\n",
        "    example_emails = Person.adapt_from(\n",
        "        {\"where\": \"n.email ENDS WITH 'example.com'\", **NEO4J_PERSON_CONFIG},\n",
        "        obj_key=\"neo4j\",\n",
        "        many=True,\n",
        "    )\n",
        "\n",
        "    print(f\"Found {len(example_emails)} people with example.com emails:\")\n",
        "    for person in example_emails:\n",
        "        print(f\"  - {person.name}: {person.email}\")"
      ]
    },
    {
      "cell_type": "markdown",
      "id": "b0a5f32c",
      "metadata": {},
      "source": [
        "### B.3 Working with Relationships"
      ]
    },
    {
      "cell_type": "markdown",
      "id": "233bfc92",
      "metadata": {},
      "source": [
        "One of Neo4j's key features is its ability to model relationships between nodes."
      ]
    },
    {
      "cell_type": "code",
      "execution_count": 12,
      "id": "3156d90a",
      "metadata": {},
      "outputs": [
        {
          "name": "stdout",
          "output_type": "stream",
          "text": [
            "Storing people...\n",
            "Stored all people in Neo4j.\n",
            "\n",
            "Storing hobbies...\n",
            "\n",
            "Creating relationships...\n",
            "Created relationship: Alice ENJOYS Coding\n",
            "Created relationship: Alice ENJOYS Hiking\n",
            "Created relationship: Alice ENJOYS Reading\n",
            "Created relationship: Bob ENJOYS Cooking\n",
            "Created relationship: Bob ENJOYS Gaming\n",
            "Created relationship: Charlie ENJOYS Hiking\n",
            "Created relationship: Charlie ENJOYS Reading\n",
            "\n",
            "People who enjoy Hiking:\n",
            "  - Charlie (Age: 35)\n",
            "  - Alice (Age: 30)\n",
            "\n",
            "Alice's hobbies:\n",
            "  - Reading (Category: Indoor)\n",
            "  - Hiking (Category: Outdoor)\n",
            "  - Coding (Category: Technical)\n"
          ]
        }
      ],
      "source": [
        "from pydantic import BaseModel\n",
        "from typing import List, Optional\n",
        "from pydapter.extras.neo4j_ import Neo4jAdapter\n",
        "from pydapter import Adaptable\n",
        "from neo4j import GraphDatabase\n",
        "\n",
        "# Neo4j connection settings\n",
        "NEO4J_URI = \"bolt://localhost:7687\"\n",
        "NEO4J_AUTH = (\"neo4j\", \"password\")\n",
        "\n",
        "\n",
        "# Define models\n",
        "class Person(BaseModel, Adaptable):\n",
        "    id: str\n",
        "    name: str\n",
        "    age: int\n",
        "    email: Optional[str] = None\n",
        "\n",
        "\n",
        "class Hobby(BaseModel, Adaptable):\n",
        "    id: str\n",
        "    name: str\n",
        "    category: Optional[str] = None\n",
        "\n",
        "\n",
        "Person.register_adapter(Neo4jAdapter)\n",
        "Hobby.register_adapter(Neo4jAdapter)\n",
        "\n",
        "\n",
        "# Custom function to create relationships\n",
        "# (Since pydapter doesn't directly handle relationships yet)\n",
        "def create_relationship(person_id, hobby_id, relationship_type=\"ENJOYS\"):\n",
        "    \"\"\"Create a relationship between a Person and a Hobby\"\"\"\n",
        "    driver = GraphDatabase.driver(uri=NEO4J_URI, auth=NEO4J_AUTH)\n",
        "\n",
        "    with driver.session() as session:\n",
        "        result = session.run(\n",
        "            f\"\"\"\n",
        "            MATCH (p:Person {{id: $person_id}})\n",
        "            MATCH (h:Hobby {{id: $hobby_id}})\n",
        "            MERGE (p)-[r:{relationship_type}]->(h)\n",
        "            RETURN p.name, h.name\n",
        "            \"\"\",\n",
        "            person_id=person_id,\n",
        "            hobby_id=hobby_id,\n",
        "        )\n",
        "\n",
        "        for record in result:\n",
        "            print(\n",
        "                f\"Created relationship: {record['p.name']} {relationship_type} {record['h.name']}\"\n",
        "            )\n",
        "\n",
        "    driver.close()\n",
        "\n",
        "\n",
        "# Function to find people who enjoy a specific hobby\n",
        "def find_people_by_hobby(hobby_name):\n",
        "    \"\"\"Find all people who enjoy a specific hobby\"\"\"\n",
        "    driver = GraphDatabase.driver(uri=NEO4J_URI, auth=NEO4J_AUTH)\n",
        "\n",
        "    people_list = []\n",
        "\n",
        "    with driver.session() as session:\n",
        "        result = session.run(\n",
        "            \"\"\"\n",
        "            MATCH (p:Person)-[:ENJOYS]->(h:Hobby {name: $hobby_name})\n",
        "            RETURN p\n",
        "            \"\"\",\n",
        "            hobby_name=hobby_name,\n",
        "        )\n",
        "\n",
        "        for record in result:\n",
        "            # Convert Neo4j node properties to dict\n",
        "            person_data = dict(record[\"p\"].items())\n",
        "            # Create Pydantic model from data\n",
        "            person = Person(**person_data)\n",
        "            people_list.append(person)\n",
        "\n",
        "    driver.close()\n",
        "    return people_list\n",
        "\n",
        "\n",
        "# Function to find hobbies for a specific person\n",
        "def find_hobbies_for_person(person_id):\n",
        "    \"\"\"Find all hobbies for a specific person\"\"\"\n",
        "    driver = GraphDatabase.driver(uri=NEO4J_URI, auth=NEO4J_AUTH)\n",
        "\n",
        "    hobbies_list = []\n",
        "\n",
        "    with driver.session() as session:\n",
        "        result = session.run(\n",
        "            \"\"\"\n",
        "            MATCH (p:Person {id: $person_id})-[:ENJOYS]->(h:Hobby)\n",
        "            RETURN h\n",
        "            \"\"\",\n",
        "            person_id=person_id,\n",
        "        )\n",
        "\n",
        "        for record in result:\n",
        "            hobby_data = dict(record[\"h\"].items())\n",
        "            hobby = Hobby(**hobby_data)\n",
        "            hobbies_list.append(hobby)\n",
        "\n",
        "    driver.close()\n",
        "    return hobbies_list\n",
        "\n",
        "\n",
        "# Main function to demo relationships\n",
        "def main():\n",
        "    # Create people\n",
        "    people = [\n",
        "        Person(id=\"p1\", name=\"Alice\", age=30, email=\"alice@example.com\"),\n",
        "        Person(id=\"p2\", name=\"Bob\", age=25, email=\"bob@example.com\"),\n",
        "        Person(id=\"p3\", name=\"Charlie\", age=35, email=\"charlie@example.com\"),\n",
        "    ]\n",
        "\n",
        "    # Create hobbies\n",
        "    hobbies = [\n",
        "        Hobby(id=\"h1\", name=\"Coding\", category=\"Technical\"),\n",
        "        Hobby(id=\"h2\", name=\"Hiking\", category=\"Outdoor\"),\n",
        "        Hobby(id=\"h3\", name=\"Reading\", category=\"Indoor\"),\n",
        "        Hobby(id=\"h4\", name=\"Cooking\", category=\"Indoor\"),\n",
        "        Hobby(id=\"h5\", name=\"Gaming\", category=\"Entertainment\"),\n",
        "    ]\n",
        "\n",
        "    # Store people in Neo4j\n",
        "    print(\"Storing people...\")\n",
        "    for person in people:\n",
        "        person.adapt_to(\n",
        "            obj_key=\"neo4j\",\n",
        "            url=NEO4J_URI,\n",
        "            auth=NEO4J_AUTH,\n",
        "            label=\"Person\",\n",
        "            merge_on=\"id\",\n",
        "        )\n",
        "    print(\"Stored all people in Neo4j.\")\n",
        "\n",
        "    # Store hobbies in Neo4j\n",
        "    print(\"\\nStoring hobbies...\")\n",
        "    for hobby in hobbies:\n",
        "        hobby.adapt_to(\n",
        "            obj_key=\"neo4j\",\n",
        "            url=NEO4J_URI,\n",
        "            auth=NEO4J_AUTH,\n",
        "            label=\"Hobby\",\n",
        "            merge_on=\"id\",\n",
        "        )\n",
        "\n",
        "    # Create relationships\n",
        "    print(\"\\nCreating relationships...\")\n",
        "\n",
        "    # Alice enjoys Coding, Hiking, and Reading\n",
        "    create_relationship(\"p1\", \"h1\")\n",
        "    create_relationship(\"p1\", \"h2\")\n",
        "    create_relationship(\"p1\", \"h3\")\n",
        "\n",
        "    # Bob enjoys Gaming and Cooking\n",
        "    create_relationship(\"p2\", \"h4\")\n",
        "    create_relationship(\"p2\", \"h5\")\n",
        "\n",
        "    # Charlie enjoys Reading and Hiking\n",
        "    create_relationship(\"p3\", \"h2\")\n",
        "    create_relationship(\"p3\", \"h3\")\n",
        "\n",
        "    # Find people who enjoy Hiking\n",
        "    print(\"\\nPeople who enjoy Hiking:\")\n",
        "    hikers = find_people_by_hobby(\"Hiking\")\n",
        "    for person in hikers:\n",
        "        print(f\"  - {person.name} (Age: {person.age})\")\n",
        "\n",
        "    # Find hobbies for Alice\n",
        "    print(\"\\nAlice's hobbies:\")\n",
        "    alice_hobbies = find_hobbies_for_person(\"p1\")\n",
        "    for hobby in alice_hobbies:\n",
        "        print(f\"  - {hobby.name} (Category: {hobby.category})\")\n",
        "\n",
        "\n",
        "main()"
      ]
    },
    {
      "cell_type": "markdown",
      "id": "e43cc73c",
      "metadata": {},
      "source": [
        "## Conclusion"
      ]
    },
    {
      "cell_type": "markdown",
      "id": "ffd564d5",
      "metadata": {},
      "source": [
        "In this tutorial, you've learned how to use pydapter's Neo4j adapter to\n",
        "seamlessly work with graph databases. We've covered:\n",
        "\n",
        "1. Basic setup and connection to Neo4j\n",
        "2. Modeling entities as Pydantic models\n",
        "3. Storing and retrieving data using the Neo4j adapter\n",
        "4. Creating and traversing relationships\n",
        "5. Building more complex graph applications\n",
        "6. Error handling and best practices\n",
        "\n",
        "Neo4j's graph structure is particularly powerful for data with complex\n",
        "relationships, like social networks, recommendation systems, and knowledge\n",
        "graphs. The pydapter adapter makes it easy to integrate Neo4j with your\n",
        "Pydantic-based Python applications, providing a clean interface for graph\n",
        "database operations.\n",
        "\n",
        "Some key advantages of using pydapter's Neo4j adapter include:\n",
        "\n",
        "1. Type safety and validation through Pydantic models\n",
        "2. Consistent error handling\n",
        "3. Simplified node creation and retrieval\n",
        "4. Integration with other pydapter adapters for multi-database applications\n",
        "\n",
        "Keep in mind that while the adapter handles nodes well, for relationship\n",
        "operations you'll often need to use the Neo4j driver directly for more complex\n",
        "graph traversals and Cypher queries.\n",
        "\n",
        "To learn more about Neo4j and graph modeling, check out the\n",
        "[Neo4j documentation](https://neo4j.com/docs/) and\n",
        "[Cypher query language](https://neo4j.com/developer/cypher/)."
      ]
    }
  ],
  "metadata": {
    "kernelspec": {
      "display_name": ".venv",
      "language": "python",
      "name": "python3"
    },
    "language_info": {
      "codemirror_mode": {
        "name": "ipython",
        "version": 3
      },
      "file_extension": ".py",
      "mimetype": "text/x-python",
      "name": "python",
      "nbconvert_exporter": "python",
      "pygments_lexer": "ipython3",
      "version": "3.10.16"
    }
  },
  "nbformat": 4,
  "nbformat_minor": 5
}
