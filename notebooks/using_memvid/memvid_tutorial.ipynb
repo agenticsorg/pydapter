{
  "cells": [
    {
      "cell_type": "markdown",
      "id": "intro",
      "metadata": {},
      "source": [
        "# Memvid Adapter Tutorial\n",
        "\n",
        "This notebook demonstrates how to use Pydapter's Memvid adapters for video-based AI memory storage and retrieval.\n",
        "\n",
        "## What is Memvid?\n",
        "\n",
        "Memvid enables storing and retrieving text data by encoding it into video files. This provides:\n",
        "- Efficient storage and compression\n",
        "- Semantic search capabilities\n",
        "- Novel data persistence patterns"
      ]
    },
    {
      "cell_type": "code",
      "execution_count": null,
      "id": "imports",
      "metadata": {},
      "outputs": [],
      "source": [
        "# Import libraries and check availability\n",
        "from pydantic import BaseModel\n",
        "from typing import List\n",
        "import tempfile\n",
        "import os\n",
        "\n",
        "# Check Memvid availability\n",
        "try:\n",
        "    from pydapter.extras.memvid_ import MemvidAdapter\n",
        "    print(\"\u2705 Basic Memvid adapter available\")\n",
        "    memvid_available = True\n",
        "except ImportError as e:\n",
        "    print(f\"\u274c Memvid not available: {e}\")\n",
        "    print(\"Install with: pip install memvid\")\n",
        "    memvid_available = False\n",
        "\n",
        "# Check Pulsar integration\n",
        "try:\n",
        "    from pydapter.extras.async_memvid_pulsar import AsyncPulsarMemvidAdapter\n",
        "    print(\"\u2705 Pulsar Memvid adapter available\")\n",
        "    pulsar_available = True\n",
        "except ImportError:\n",
        "    print(\"\u274c Pulsar integration not available\")\n",
        "    pulsar_available = False\n",
        "\n",
        "print(f\"\\nFeatures available:\")\n",
        "print(f\"- Basic Memvid: {memvid_available}\")\n",
        "print(f\"- Pulsar streaming: {pulsar_available}\")"
      ]
    },
    {
      "cell_type": "code",
      "source": "# Define data models\nclass Document(BaseModel):\n    \"\"\"A document with text content.\"\"\"\n    id: str\n    title: str\n    text: str\n    category: str\n    tags: List[str] = []\n\n# Create sample documents\ndocuments = [\n    Document(\n        id=\"doc1\",\n        title=\"Machine Learning Basics\",\n        text=\"Machine learning enables computers to learn from data without explicit programming. It uses algorithms to identify patterns.\",\n        category=\"AI\",\n        tags=[\"ml\", \"ai\"]\n    ),\n    Document(\n        id=\"doc2\",\n        title=\"Python Programming\",\n        text=\"Python is a versatile programming language popular in data science and web development.\",\n        category=\"Programming\",\n        tags=[\"python\", \"programming\"]\n    ),\n    Document(\n        id=\"doc3\", \n        title=\"Data Analysis\",\n        text=\"Data analysis involves examining datasets to discover insights and patterns that inform decision making.\",\n        category=\"Data Science\",\n        tags=[\"data\", \"analysis\"]\n    )\n]\n\nprint(f\"Created {len(documents)} documents:\")\nfor doc in documents:\n    print(f\"- {doc.title} ({doc.category})\")",
      "metadata": {},
      "outputs": []
    },
    {
      "cell_type": "markdown",
      "source": "## Basic Memvid Usage\n\nLet's demonstrate the core functionality of encoding documents into video memory and searching them:",
      "metadata": {}
    },
    {
      "cell_type": "code",
      "source": "# Basic Memvid usage demo\nif memvid_available:\n    print(\"\ud83c\udfac Creating video memory from documents...\")\n    \n    with tempfile.TemporaryDirectory() as temp_dir:\n        video_file = os.path.join(temp_dir, \"knowledge_base.mp4\")\n        index_file = os.path.join(temp_dir, \"knowledge_index.json\")\n        \n        print(f\"Video file: {video_file}\")\n        print(f\"Index file: {index_file}\")\n        \n        try:\n            # Encode documents into video memory\n            result = MemvidAdapter.to_obj(\n                documents,\n                video_file=video_file,\n                index_file=index_file,\n                text_field=\"text\",  # Field containing text to encode\n                chunk_size=256,     # Size of text chunks\n                overlap=32          # Overlap between chunks\n            )\n            \n            print(f\"\\n\u2705 Encoding successful!\")\n            print(f\"Result: {result}\")\n            \n            # Check if files were created\n            if os.path.exists(video_file) and os.path.exists(index_file):\n                video_size = os.path.getsize(video_file)\n                index_size = os.path.getsize(index_file)\n                print(f\"\\n\ud83d\udcca File sizes:\")\n                print(f\"Video: {video_size:,} bytes\")\n                print(f\"Index: {index_size:,} bytes\")\n                \n                # Search the video memory\n                print(f\"\\n\ud83d\udd0d Searching video memory...\")\n                \n                search_queries = [\n                    \"machine learning algorithms\",\n                    \"python programming\", \n                    \"data analysis patterns\"\n                ]\n                \n                for query in search_queries:\n                    print(f\"\\nQuery: '{query}'\")\n                    \n                    search_config = {\n                        \"video_file\": video_file,\n                        \"index_file\": index_file,\n                        \"query\": query,\n                        \"top_k\": 2\n                    }\n                    \n                    try:\n                        results = MemvidAdapter.from_obj(Document, search_config, many=True)\n                        print(f\"Found {len(results)} results:\")\n                        \n                        for i, result_doc in enumerate(results, 1):\n                            print(f\"  {i}. {result_doc.title}\")\n                            print(f\"     Category: {result_doc.category}\")\n                            \n                    except Exception as e:\n                        print(f\"Search failed: {e}\")\n            else:\n                print(\"\u274c Video files were not created\")\n                \n        except Exception as e:\n            print(f\"\u274c Encoding failed: {e}\")\n            print(\"This might be because memvid library is not properly installed\")\n            \nelse:\n    print(\"\u274c Memvid not available - please install with:\")\n    print(\"   pip install pydapter[memvid]\")\n    print(\"\\nWhat you would see:\")\n    print(\"- Documents encoded into video files\")\n    print(\"- Semantic search returning relevant results\")\n    print(\"- Efficient storage and retrieval\")",
      "metadata": {},
      "outputs": []
    },
    {
      "cell_type": "markdown",
      "source": "## Error Handling\n\nProper error handling is crucial for production applications:",
      "metadata": {}
    },
    {
      "cell_type": "code",
      "source": "# Error handling demo\nif memvid_available:\n    from pydapter.exceptions import ValidationError, ResourceError\n    \n    print(\"\ud83d\udee1\ufe0f Testing error handling scenarios:\")\n    \n    # 1. Missing required parameters\n    try:\n        MemvidAdapter.to_obj(documents, video_file=\"\", index_file=\"test.json\")\n        print(\"\u274c Should have failed!\")\n    except ValidationError as e:\n        print(f\"\u2705 Caught validation error: {str(e)[:60]}...\")\n    \n    # 2. Wrong field name\n    try:\n        with tempfile.TemporaryDirectory() as temp_dir:\n            MemvidAdapter.to_obj(\n                documents,\n                video_file=os.path.join(temp_dir, \"test.mp4\"),\n                index_file=os.path.join(temp_dir, \"test.json\"),\n                text_field=\"nonexistent_field\"\n            )\n        print(\"\u274c Should have failed!\")\n    except ValidationError as e:\n        print(f\"\u2705 Caught field error: {str(e)[:60]}...\")\n    \n    # 3. Empty data handling\n    try:\n        with tempfile.TemporaryDirectory() as temp_dir:\n            result = MemvidAdapter.to_obj(\n                [],  # Empty list\n                video_file=os.path.join(temp_dir, \"empty.mp4\"),\n                index_file=os.path.join(temp_dir, \"empty.json\")\n            )\n        print(f\"\u2705 Empty data handled gracefully: {result}\")\n    except Exception as e:\n        print(f\"\u274c Unexpected error with empty data: {e}\")\n    \n    # 4. Missing video files for search\n    try:\n        search_config = {\n            \"video_file\": \"/nonexistent/path.mp4\",\n            \"index_file\": \"/nonexistent/index.json\",\n            \"query\": \"test\"\n        }\n        MemvidAdapter.from_obj(Document, search_config, many=True)\n        print(\"\u274c Should have failed!\")\n    except ResourceError as e:\n        print(f\"\u2705 Caught resource error: {str(e)[:60]}...\")\n    \n    print(\"\\n\ud83d\udca1 Always handle these exceptions in production code!\")\n    \nelse:\n    print(\"\u274c Memvid not available for error handling demo\")\n    print(\"\\nKey exceptions to handle:\")\n    print(\"- ValidationError: Invalid parameters or model fields\")\n    print(\"- ResourceError: Missing video/index files\")\n    print(\"- ConnectionError: Memvid library issues\")",
      "metadata": {},
      "outputs": []
    },
    {
      "cell_type": "markdown",
      "source": "## Summary\n\nThis tutorial demonstrated the core capabilities of Pydapter's Memvid adapters:\n\n### \u2705 What We Learned:\n1. **Basic Operations** - Encoding documents into video memory and searching\n2. **Error Handling** - Robust exception handling patterns\n3. **Integration** - Seamless Pydantic model support\n\n### \ud83c\udfaf Key Benefits:\n- **Novel Storage** - Video-based encoding for efficient data storage\n- **Semantic Search** - Find content by meaning, not just keywords\n- **Pydantic Integration** - Seamless model conversion\n- **Enterprise Ready** - Pulsar streaming for production scale\n\n### \ud83d\ude80 Next Steps:\n- Explore different chunk sizes and overlap settings\n- Try the Pulsar integration for enterprise streaming\n- Integrate with your existing data pipelines\n- Check out the [Memvid documentation](https://github.com/memvid/memvid)\n\n### \ud83d\udcda Related Resources:\n- [Pydapter Documentation](https://github.com/khive-ai/pydapter)\n- [Apache Pulsar](https://pulsar.apache.org/)\n- [Pydantic Models](https://docs.pydantic.dev/)\"",
      "metadata": {}
    }
  ],
  "metadata": {
    "kernelspec": {
      "display_name": "Python 3",
      "language": "python",
      "name": "python3"
    },
    "language_info": {
      "codemirror_mode": {
        "name": "ipython",
        "version": 3
      },
      "file_extension": ".py",
      "name": "python",
      "nbconvert_exporter": "python",
      "pygments_lexer": "ipython3",
      "version": "3.8.0"
    }
  },
  "nbformat": 4,
  "nbformat_minor": 5
}
